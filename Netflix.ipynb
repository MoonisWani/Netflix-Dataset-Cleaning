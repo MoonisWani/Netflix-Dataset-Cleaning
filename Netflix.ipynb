{
 "cells": [
  {
   "cell_type": "code",
   "execution_count": 2,
   "metadata": {},
   "outputs": [],
   "source": [
    "import pandas as pd"
   ]
  },
  {
   "cell_type": "code",
   "execution_count": 3,
   "metadata": {},
   "outputs": [],
   "source": [
    "netflix = pd.read_csv(\"C:\\\\Users\\\\mooni\\\\ProjectsVSC\\\\NetflixData\\\\netflixData.csv\")"
   ]
  },
  {
   "cell_type": "code",
   "execution_count": 4,
   "metadata": {},
   "outputs": [
    {
     "data": {
      "text/html": [
       "<div>\n",
       "<style scoped>\n",
       "    .dataframe tbody tr th:only-of-type {\n",
       "        vertical-align: middle;\n",
       "    }\n",
       "\n",
       "    .dataframe tbody tr th {\n",
       "        vertical-align: top;\n",
       "    }\n",
       "\n",
       "    .dataframe thead th {\n",
       "        text-align: right;\n",
       "    }\n",
       "</style>\n",
       "<table border=\"1\" class=\"dataframe\">\n",
       "  <thead>\n",
       "    <tr style=\"text-align: right;\">\n",
       "      <th></th>\n",
       "      <th>Show Id</th>\n",
       "      <th>Title</th>\n",
       "      <th>Description</th>\n",
       "      <th>Director</th>\n",
       "      <th>Genres</th>\n",
       "      <th>Cast</th>\n",
       "      <th>Production Country</th>\n",
       "      <th>Release Year</th>\n",
       "      <th>Rating</th>\n",
       "      <th>Duration</th>\n",
       "      <th>Imdb Score</th>\n",
       "      <th>Content Type</th>\n",
       "    </tr>\n",
       "  </thead>\n",
       "  <tbody>\n",
       "    <tr>\n",
       "      <th>0</th>\n",
       "      <td>e2ef4e91-fb25-42ab-b485-be8e3b23dedb</td>\n",
       "      <td>#Alive</td>\n",
       "      <td>As a grisly virus rampages a city, a lone man ...</td>\n",
       "      <td>Cho Il</td>\n",
       "      <td>Horror Movies, International Movies, Thrillers</td>\n",
       "      <td>Yoo Ah-in, Park Shin-hye</td>\n",
       "      <td>South Korea</td>\n",
       "      <td>2020</td>\n",
       "      <td>Television</td>\n",
       "      <td>99 min</td>\n",
       "      <td>6.2</td>\n",
       "      <td>Movie</td>\n",
       "    </tr>\n",
       "    <tr>\n",
       "      <th>1</th>\n",
       "      <td>b01b73b7-81f6-47a7-86d8-acb63080d525</td>\n",
       "      <td>#AnneFrank - Parallel Stories</td>\n",
       "      <td>Through her diary, Anne Frank's story is retol...</td>\n",
       "      <td>Sabina Fedeli, Anna Migotto</td>\n",
       "      <td>Documentaries, International Movies</td>\n",
       "      <td>Helen Mirren, Gengher Gatti</td>\n",
       "      <td>Italy</td>\n",
       "      <td>2019</td>\n",
       "      <td>TV-14</td>\n",
       "      <td>95 min</td>\n",
       "      <td>6.4</td>\n",
       "      <td>Movie</td>\n",
       "    </tr>\n",
       "    <tr>\n",
       "      <th>2</th>\n",
       "      <td>7f2d4170-bab8-4d75-adc2-197f7124c070</td>\n",
       "      <td>#cats_the_mewvie</td>\n",
       "      <td>This pawesome documentary explores how our fel...</td>\n",
       "      <td>Michael Margolis</td>\n",
       "      <td>Documentaries, International Movies</td>\n",
       "      <td>Unavailable</td>\n",
       "      <td>Canada</td>\n",
       "      <td>2020</td>\n",
       "      <td>TV-14</td>\n",
       "      <td>90 min</td>\n",
       "      <td>5.1</td>\n",
       "      <td>Movie</td>\n",
       "    </tr>\n",
       "    <tr>\n",
       "      <th>3</th>\n",
       "      <td>c293788a-41f7-49a3-a7fc-005ea33bce2b</td>\n",
       "      <td>#FriendButMarried</td>\n",
       "      <td>Pining for his high school crush for years, a ...</td>\n",
       "      <td>Rako Prijanto</td>\n",
       "      <td>Dramas, International Movies, Romantic Movies</td>\n",
       "      <td>Adipati Dolken, Vanesha Prescilla, Rendi Jhon,...</td>\n",
       "      <td>Indonesia</td>\n",
       "      <td>2018</td>\n",
       "      <td>TV-G</td>\n",
       "      <td>102 min</td>\n",
       "      <td>7.0</td>\n",
       "      <td>Movie</td>\n",
       "    </tr>\n",
       "    <tr>\n",
       "      <th>4</th>\n",
       "      <td>0555e67e-f624-4a05-93e4-55c117d0056d</td>\n",
       "      <td>#FriendButMarried 2</td>\n",
       "      <td>As Ayu and Ditto finally transition from best ...</td>\n",
       "      <td>Rako Prijanto</td>\n",
       "      <td>Dramas, International Movies, Romantic Movies</td>\n",
       "      <td>Adipati Dolken, Mawar de Jongh, Sari Nila, Von...</td>\n",
       "      <td>Indonesia</td>\n",
       "      <td>2020</td>\n",
       "      <td>TV-G</td>\n",
       "      <td>104 min</td>\n",
       "      <td>7.0</td>\n",
       "      <td>Movie</td>\n",
       "    </tr>\n",
       "  </tbody>\n",
       "</table>\n",
       "</div>"
      ],
      "text/plain": [
       "                                Show Id                          Title  \\\n",
       "0  e2ef4e91-fb25-42ab-b485-be8e3b23dedb                         #Alive   \n",
       "1  b01b73b7-81f6-47a7-86d8-acb63080d525  #AnneFrank - Parallel Stories   \n",
       "2  7f2d4170-bab8-4d75-adc2-197f7124c070               #cats_the_mewvie   \n",
       "3  c293788a-41f7-49a3-a7fc-005ea33bce2b              #FriendButMarried   \n",
       "4  0555e67e-f624-4a05-93e4-55c117d0056d            #FriendButMarried 2   \n",
       "\n",
       "                                         Description  \\\n",
       "0  As a grisly virus rampages a city, a lone man ...   \n",
       "1  Through her diary, Anne Frank's story is retol...   \n",
       "2  This pawesome documentary explores how our fel...   \n",
       "3  Pining for his high school crush for years, a ...   \n",
       "4  As Ayu and Ditto finally transition from best ...   \n",
       "\n",
       "                      Director  \\\n",
       "0                       Cho Il   \n",
       "1  Sabina Fedeli, Anna Migotto   \n",
       "2             Michael Margolis   \n",
       "3                Rako Prijanto   \n",
       "4                Rako Prijanto   \n",
       "\n",
       "                                           Genres  \\\n",
       "0  Horror Movies, International Movies, Thrillers   \n",
       "1             Documentaries, International Movies   \n",
       "2             Documentaries, International Movies   \n",
       "3   Dramas, International Movies, Romantic Movies   \n",
       "4   Dramas, International Movies, Romantic Movies   \n",
       "\n",
       "                                                Cast Production Country  \\\n",
       "0                           Yoo Ah-in, Park Shin-hye        South Korea   \n",
       "1                        Helen Mirren, Gengher Gatti              Italy   \n",
       "2                                        Unavailable             Canada   \n",
       "3  Adipati Dolken, Vanesha Prescilla, Rendi Jhon,...          Indonesia   \n",
       "4  Adipati Dolken, Mawar de Jongh, Sari Nila, Von...          Indonesia   \n",
       "\n",
       "   Release Year      Rating Duration  Imdb Score Content Type  \n",
       "0          2020  Television   99 min         6.2        Movie  \n",
       "1          2019       TV-14   95 min         6.4        Movie  \n",
       "2          2020       TV-14   90 min         5.1        Movie  \n",
       "3          2018        TV-G  102 min         7.0        Movie  \n",
       "4          2020        TV-G  104 min         7.0        Movie  "
      ]
     },
     "execution_count": 4,
     "metadata": {},
     "output_type": "execute_result"
    }
   ],
   "source": [
    "netflix.head()"
   ]
  },
  {
   "cell_type": "code",
   "execution_count": 5,
   "metadata": {},
   "outputs": [
    {
     "data": {
      "text/plain": [
       "Index(['Show Id', 'Title', 'Description', 'Director', 'Genres', 'Cast',\n",
       "       'Production Country', 'Release Year', 'Rating', 'Duration',\n",
       "       'Imdb Score', 'Content Type'],\n",
       "      dtype='object')"
      ]
     },
     "execution_count": 5,
     "metadata": {},
     "output_type": "execute_result"
    }
   ],
   "source": [
    "netflix.columns"
   ]
  },
  {
   "cell_type": "code",
   "execution_count": 6,
   "metadata": {},
   "outputs": [
    {
     "data": {
      "text/plain": [
       "Show Id               0\n",
       "Title                 0\n",
       "Description           0\n",
       "Director              0\n",
       "Genres                0\n",
       "Cast                  0\n",
       "Production Country    0\n",
       "Release Year          0\n",
       "Rating                0\n",
       "Duration              0\n",
       "Imdb Score            0\n",
       "Content Type          0\n",
       "dtype: int64"
      ]
     },
     "execution_count": 6,
     "metadata": {},
     "output_type": "execute_result"
    }
   ],
   "source": [
    "netflix.isnull().sum()"
   ]
  },
  {
   "cell_type": "code",
   "execution_count": 7,
   "metadata": {},
   "outputs": [
    {
     "data": {
      "text/plain": [
       "(3607, 12)"
      ]
     },
     "execution_count": 7,
     "metadata": {},
     "output_type": "execute_result"
    }
   ],
   "source": [
    "netflix.shape"
   ]
  },
  {
   "cell_type": "code",
   "execution_count": 8,
   "metadata": {},
   "outputs": [
    {
     "data": {
      "text/plain": [
       "Show Id               0.0\n",
       "Title                 0.0\n",
       "Description           0.0\n",
       "Director              0.0\n",
       "Genres                0.0\n",
       "Cast                  0.0\n",
       "Production Country    0.0\n",
       "Release Year          0.0\n",
       "Rating                0.0\n",
       "Duration              0.0\n",
       "Imdb Score            0.0\n",
       "Content Type          0.0\n",
       "dtype: float64"
      ]
     },
     "execution_count": 8,
     "metadata": {},
     "output_type": "execute_result"
    }
   ],
   "source": [
    "netflix.isnull().sum()/netflix.shape[0]*100"
   ]
  },
  {
   "cell_type": "code",
   "execution_count": 9,
   "metadata": {},
   "outputs": [],
   "source": [
    "x = ['Director' , 'Cast' , 'Production Country']\n",
    "for i in x:\n",
    "    netflix[i].fillna(\"Unavailable\", inplace= True)"
   ]
  },
  {
   "cell_type": "code",
   "execution_count": 10,
   "metadata": {},
   "outputs": [
    {
     "data": {
      "text/plain": [
       "Show Id               0.0\n",
       "Title                 0.0\n",
       "Description           0.0\n",
       "Director              0.0\n",
       "Genres                0.0\n",
       "Cast                  0.0\n",
       "Production Country    0.0\n",
       "Release Year          0.0\n",
       "Rating                0.0\n",
       "Duration              0.0\n",
       "Imdb Score            0.0\n",
       "Content Type          0.0\n",
       "dtype: float64"
      ]
     },
     "execution_count": 10,
     "metadata": {},
     "output_type": "execute_result"
    }
   ],
   "source": [
    "netflix.isnull().sum()/netflix.shape[0]*100"
   ]
  },
  {
   "cell_type": "code",
   "execution_count": 11,
   "metadata": {},
   "outputs": [],
   "source": [
    "# netflix.dropna(subset=['Release Year', 'Rating', 'Duration', 'Imdb Score'], inplace=True)\n",
    "# netflix.drop(['Date Added'], axis= 1, inplace=True)"
   ]
  },
  {
   "cell_type": "code",
   "execution_count": 12,
   "metadata": {},
   "outputs": [
    {
     "data": {
      "text/plain": [
       "Show Id               0.0\n",
       "Title                 0.0\n",
       "Description           0.0\n",
       "Director              0.0\n",
       "Genres                0.0\n",
       "Cast                  0.0\n",
       "Production Country    0.0\n",
       "Release Year          0.0\n",
       "Rating                0.0\n",
       "Duration              0.0\n",
       "Imdb Score            0.0\n",
       "Content Type          0.0\n",
       "dtype: float64"
      ]
     },
     "execution_count": 12,
     "metadata": {},
     "output_type": "execute_result"
    }
   ],
   "source": [
    "netflix.isnull().sum()/netflix.shape[0]*100"
   ]
  },
  {
   "cell_type": "code",
   "execution_count": 13,
   "metadata": {},
   "outputs": [
    {
     "data": {
      "text/plain": [
       "0       6.2\n",
       "1       6.4\n",
       "2       5.1\n",
       "3       7.0\n",
       "4       7.0\n",
       "       ... \n",
       "3602    6.7\n",
       "3603    7.4\n",
       "3604    7.4\n",
       "3605    6.5\n",
       "3606    4.7\n",
       "Name: Imdb Score, Length: 3607, dtype: float64"
      ]
     },
     "execution_count": 13,
     "metadata": {},
     "output_type": "execute_result"
    }
   ],
   "source": [
    "netflix['Imdb Score']"
   ]
  },
  {
   "cell_type": "code",
   "execution_count": 14,
   "metadata": {},
   "outputs": [],
   "source": [
    "# netflix['Imdb Score'] = netflix['Imdb Score'].str.replace(\"/10\", \"\")\n",
    "# netflix['Imdb Score'] = netflix['Imdb Score'].apply(pd.to_numeric)"
   ]
  },
  {
   "cell_type": "code",
   "execution_count": 15,
   "metadata": {},
   "outputs": [
    {
     "data": {
      "text/plain": [
       "0       6.2\n",
       "1       6.4\n",
       "2       5.1\n",
       "3       7.0\n",
       "4       7.0\n",
       "       ... \n",
       "3602    6.7\n",
       "3603    7.4\n",
       "3604    7.4\n",
       "3605    6.5\n",
       "3606    4.7\n",
       "Name: Imdb Score, Length: 3607, dtype: float64"
      ]
     },
     "execution_count": 15,
     "metadata": {},
     "output_type": "execute_result"
    }
   ],
   "source": [
    "netflix['Imdb Score']"
   ]
  },
  {
   "cell_type": "code",
   "execution_count": 16,
   "metadata": {},
   "outputs": [],
   "source": [
    "# netflix['Release Date']"
   ]
  },
  {
   "cell_type": "code",
   "execution_count": 17,
   "metadata": {},
   "outputs": [],
   "source": [
    "netflix = netflix.rename(columns={'Release Date': 'Release Year'})\n",
    "netflix['Release Year'] = netflix['Release Year'].astype(int)"
   ]
  },
  {
   "cell_type": "code",
   "execution_count": 18,
   "metadata": {},
   "outputs": [
    {
     "name": "stdout",
     "output_type": "stream",
     "text": [
      "<class 'pandas.core.frame.DataFrame'>\n",
      "RangeIndex: 3607 entries, 0 to 3606\n",
      "Data columns (total 12 columns):\n",
      " #   Column              Non-Null Count  Dtype  \n",
      "---  ------              --------------  -----  \n",
      " 0   Show Id             3607 non-null   object \n",
      " 1   Title               3607 non-null   object \n",
      " 2   Description         3607 non-null   object \n",
      " 3   Director            3607 non-null   object \n",
      " 4   Genres              3607 non-null   object \n",
      " 5   Cast                3607 non-null   object \n",
      " 6   Production Country  3607 non-null   object \n",
      " 7   Release Year        3607 non-null   int32  \n",
      " 8   Rating              3607 non-null   object \n",
      " 9   Duration            3607 non-null   object \n",
      " 10  Imdb Score          3607 non-null   float64\n",
      " 11  Content Type        3607 non-null   object \n",
      "dtypes: float64(1), int32(1), object(10)\n",
      "memory usage: 324.2+ KB\n"
     ]
    }
   ],
   "source": [
    "netflix.info()"
   ]
  },
  {
   "cell_type": "code",
   "execution_count": 19,
   "metadata": {},
   "outputs": [
    {
     "data": {
      "text/html": [
       "<div>\n",
       "<style scoped>\n",
       "    .dataframe tbody tr th:only-of-type {\n",
       "        vertical-align: middle;\n",
       "    }\n",
       "\n",
       "    .dataframe tbody tr th {\n",
       "        vertical-align: top;\n",
       "    }\n",
       "\n",
       "    .dataframe thead th {\n",
       "        text-align: right;\n",
       "    }\n",
       "</style>\n",
       "<table border=\"1\" class=\"dataframe\">\n",
       "  <thead>\n",
       "    <tr style=\"text-align: right;\">\n",
       "      <th></th>\n",
       "      <th>Show Id</th>\n",
       "      <th>Title</th>\n",
       "      <th>Description</th>\n",
       "      <th>Director</th>\n",
       "      <th>Genres</th>\n",
       "      <th>Cast</th>\n",
       "      <th>Production Country</th>\n",
       "      <th>Release Year</th>\n",
       "      <th>Rating</th>\n",
       "      <th>Duration</th>\n",
       "      <th>Imdb Score</th>\n",
       "      <th>Content Type</th>\n",
       "    </tr>\n",
       "  </thead>\n",
       "  <tbody>\n",
       "    <tr>\n",
       "      <th>0</th>\n",
       "      <td>e2ef4e91-fb25-42ab-b485-be8e3b23dedb</td>\n",
       "      <td>#Alive</td>\n",
       "      <td>As a grisly virus rampages a city, a lone man ...</td>\n",
       "      <td>Cho Il</td>\n",
       "      <td>Horror Movies, International Movies, Thrillers</td>\n",
       "      <td>Yoo Ah-in, Park Shin-hye</td>\n",
       "      <td>South Korea</td>\n",
       "      <td>2020</td>\n",
       "      <td>Television</td>\n",
       "      <td>99 min</td>\n",
       "      <td>6.2</td>\n",
       "      <td>Movie</td>\n",
       "    </tr>\n",
       "    <tr>\n",
       "      <th>1</th>\n",
       "      <td>b01b73b7-81f6-47a7-86d8-acb63080d525</td>\n",
       "      <td>#AnneFrank - Parallel Stories</td>\n",
       "      <td>Through her diary, Anne Frank's story is retol...</td>\n",
       "      <td>Sabina Fedeli, Anna Migotto</td>\n",
       "      <td>Documentaries, International Movies</td>\n",
       "      <td>Helen Mirren, Gengher Gatti</td>\n",
       "      <td>Italy</td>\n",
       "      <td>2019</td>\n",
       "      <td>TV-14</td>\n",
       "      <td>95 min</td>\n",
       "      <td>6.4</td>\n",
       "      <td>Movie</td>\n",
       "    </tr>\n",
       "    <tr>\n",
       "      <th>2</th>\n",
       "      <td>7f2d4170-bab8-4d75-adc2-197f7124c070</td>\n",
       "      <td>#cats_the_mewvie</td>\n",
       "      <td>This pawesome documentary explores how our fel...</td>\n",
       "      <td>Michael Margolis</td>\n",
       "      <td>Documentaries, International Movies</td>\n",
       "      <td>Unavailable</td>\n",
       "      <td>Canada</td>\n",
       "      <td>2020</td>\n",
       "      <td>TV-14</td>\n",
       "      <td>90 min</td>\n",
       "      <td>5.1</td>\n",
       "      <td>Movie</td>\n",
       "    </tr>\n",
       "    <tr>\n",
       "      <th>3</th>\n",
       "      <td>c293788a-41f7-49a3-a7fc-005ea33bce2b</td>\n",
       "      <td>#FriendButMarried</td>\n",
       "      <td>Pining for his high school crush for years, a ...</td>\n",
       "      <td>Rako Prijanto</td>\n",
       "      <td>Dramas, International Movies, Romantic Movies</td>\n",
       "      <td>Adipati Dolken, Vanesha Prescilla, Rendi Jhon,...</td>\n",
       "      <td>Indonesia</td>\n",
       "      <td>2018</td>\n",
       "      <td>TV-G</td>\n",
       "      <td>102 min</td>\n",
       "      <td>7.0</td>\n",
       "      <td>Movie</td>\n",
       "    </tr>\n",
       "    <tr>\n",
       "      <th>4</th>\n",
       "      <td>0555e67e-f624-4a05-93e4-55c117d0056d</td>\n",
       "      <td>#FriendButMarried 2</td>\n",
       "      <td>As Ayu and Ditto finally transition from best ...</td>\n",
       "      <td>Rako Prijanto</td>\n",
       "      <td>Dramas, International Movies, Romantic Movies</td>\n",
       "      <td>Adipati Dolken, Mawar de Jongh, Sari Nila, Von...</td>\n",
       "      <td>Indonesia</td>\n",
       "      <td>2020</td>\n",
       "      <td>TV-G</td>\n",
       "      <td>104 min</td>\n",
       "      <td>7.0</td>\n",
       "      <td>Movie</td>\n",
       "    </tr>\n",
       "  </tbody>\n",
       "</table>\n",
       "</div>"
      ],
      "text/plain": [
       "                                Show Id                          Title  \\\n",
       "0  e2ef4e91-fb25-42ab-b485-be8e3b23dedb                         #Alive   \n",
       "1  b01b73b7-81f6-47a7-86d8-acb63080d525  #AnneFrank - Parallel Stories   \n",
       "2  7f2d4170-bab8-4d75-adc2-197f7124c070               #cats_the_mewvie   \n",
       "3  c293788a-41f7-49a3-a7fc-005ea33bce2b              #FriendButMarried   \n",
       "4  0555e67e-f624-4a05-93e4-55c117d0056d            #FriendButMarried 2   \n",
       "\n",
       "                                         Description  \\\n",
       "0  As a grisly virus rampages a city, a lone man ...   \n",
       "1  Through her diary, Anne Frank's story is retol...   \n",
       "2  This pawesome documentary explores how our fel...   \n",
       "3  Pining for his high school crush for years, a ...   \n",
       "4  As Ayu and Ditto finally transition from best ...   \n",
       "\n",
       "                      Director  \\\n",
       "0                       Cho Il   \n",
       "1  Sabina Fedeli, Anna Migotto   \n",
       "2             Michael Margolis   \n",
       "3                Rako Prijanto   \n",
       "4                Rako Prijanto   \n",
       "\n",
       "                                           Genres  \\\n",
       "0  Horror Movies, International Movies, Thrillers   \n",
       "1             Documentaries, International Movies   \n",
       "2             Documentaries, International Movies   \n",
       "3   Dramas, International Movies, Romantic Movies   \n",
       "4   Dramas, International Movies, Romantic Movies   \n",
       "\n",
       "                                                Cast Production Country  \\\n",
       "0                           Yoo Ah-in, Park Shin-hye        South Korea   \n",
       "1                        Helen Mirren, Gengher Gatti              Italy   \n",
       "2                                        Unavailable             Canada   \n",
       "3  Adipati Dolken, Vanesha Prescilla, Rendi Jhon,...          Indonesia   \n",
       "4  Adipati Dolken, Mawar de Jongh, Sari Nila, Von...          Indonesia   \n",
       "\n",
       "   Release Year      Rating Duration  Imdb Score Content Type  \n",
       "0          2020  Television   99 min         6.2        Movie  \n",
       "1          2019       TV-14   95 min         6.4        Movie  \n",
       "2          2020       TV-14   90 min         5.1        Movie  \n",
       "3          2018        TV-G  102 min         7.0        Movie  \n",
       "4          2020        TV-G  104 min         7.0        Movie  "
      ]
     },
     "execution_count": 19,
     "metadata": {},
     "output_type": "execute_result"
    }
   ],
   "source": [
    "netflix.head()"
   ]
  },
  {
   "cell_type": "code",
   "execution_count": 20,
   "metadata": {},
   "outputs": [
    {
     "data": {
      "text/plain": [
       "Rating\n",
       "Television    1495\n",
       "TV-14          920\n",
       "R              373\n",
       "TV-PG          288\n",
       "PG-13          223\n",
       "PG             121\n",
       "TV-G            68\n",
       "TV-Y            59\n",
       "TV-Y7           44\n",
       "G               15\n",
       "NC-17            1\n",
       "Name: count, dtype: int64"
      ]
     },
     "execution_count": 20,
     "metadata": {},
     "output_type": "execute_result"
    }
   ],
   "source": [
    "netflix['Rating'].replace({'TV-MA':'Television'}, regex= True, inplace= True)\n",
    "netflix['Rating'].value_counts()"
   ]
  },
  {
   "cell_type": "code",
   "execution_count": 21,
   "metadata": {},
   "outputs": [
    {
     "data": {
      "text/html": [
       "<div>\n",
       "<style scoped>\n",
       "    .dataframe tbody tr th:only-of-type {\n",
       "        vertical-align: middle;\n",
       "    }\n",
       "\n",
       "    .dataframe tbody tr th {\n",
       "        vertical-align: top;\n",
       "    }\n",
       "\n",
       "    .dataframe thead th {\n",
       "        text-align: right;\n",
       "    }\n",
       "</style>\n",
       "<table border=\"1\" class=\"dataframe\">\n",
       "  <thead>\n",
       "    <tr style=\"text-align: right;\">\n",
       "      <th></th>\n",
       "      <th>Show Id</th>\n",
       "      <th>Title</th>\n",
       "      <th>Description</th>\n",
       "      <th>Director</th>\n",
       "      <th>Genres</th>\n",
       "      <th>Cast</th>\n",
       "      <th>Production Country</th>\n",
       "      <th>Release Year</th>\n",
       "      <th>Rating</th>\n",
       "      <th>Duration</th>\n",
       "      <th>Imdb Score</th>\n",
       "      <th>Content Type</th>\n",
       "    </tr>\n",
       "  </thead>\n",
       "  <tbody>\n",
       "    <tr>\n",
       "      <th>0</th>\n",
       "      <td>e2ef4e91-fb25-42ab-b485-be8e3b23dedb</td>\n",
       "      <td>#Alive</td>\n",
       "      <td>As a grisly virus rampages a city, a lone man ...</td>\n",
       "      <td>Cho Il</td>\n",
       "      <td>Horror Movies, International Movies, Thrillers</td>\n",
       "      <td>Yoo Ah-in, Park Shin-hye</td>\n",
       "      <td>South Korea</td>\n",
       "      <td>2020</td>\n",
       "      <td>Television</td>\n",
       "      <td>99 min</td>\n",
       "      <td>6.2</td>\n",
       "      <td>Movie</td>\n",
       "    </tr>\n",
       "    <tr>\n",
       "      <th>1</th>\n",
       "      <td>b01b73b7-81f6-47a7-86d8-acb63080d525</td>\n",
       "      <td>#AnneFrank - Parallel Stories</td>\n",
       "      <td>Through her diary, Anne Frank's story is retol...</td>\n",
       "      <td>Sabina Fedeli, Anna Migotto</td>\n",
       "      <td>Documentaries, International Movies</td>\n",
       "      <td>Helen Mirren, Gengher Gatti</td>\n",
       "      <td>Italy</td>\n",
       "      <td>2019</td>\n",
       "      <td>TV-14</td>\n",
       "      <td>95 min</td>\n",
       "      <td>6.4</td>\n",
       "      <td>Movie</td>\n",
       "    </tr>\n",
       "    <tr>\n",
       "      <th>2</th>\n",
       "      <td>7f2d4170-bab8-4d75-adc2-197f7124c070</td>\n",
       "      <td>#cats_the_mewvie</td>\n",
       "      <td>This pawesome documentary explores how our fel...</td>\n",
       "      <td>Michael Margolis</td>\n",
       "      <td>Documentaries, International Movies</td>\n",
       "      <td>Unavailable</td>\n",
       "      <td>Canada</td>\n",
       "      <td>2020</td>\n",
       "      <td>TV-14</td>\n",
       "      <td>90 min</td>\n",
       "      <td>5.1</td>\n",
       "      <td>Movie</td>\n",
       "    </tr>\n",
       "    <tr>\n",
       "      <th>3</th>\n",
       "      <td>c293788a-41f7-49a3-a7fc-005ea33bce2b</td>\n",
       "      <td>#FriendButMarried</td>\n",
       "      <td>Pining for his high school crush for years, a ...</td>\n",
       "      <td>Rako Prijanto</td>\n",
       "      <td>Dramas, International Movies, Romantic Movies</td>\n",
       "      <td>Adipati Dolken, Vanesha Prescilla, Rendi Jhon,...</td>\n",
       "      <td>Indonesia</td>\n",
       "      <td>2018</td>\n",
       "      <td>TV-G</td>\n",
       "      <td>102 min</td>\n",
       "      <td>7.0</td>\n",
       "      <td>Movie</td>\n",
       "    </tr>\n",
       "    <tr>\n",
       "      <th>4</th>\n",
       "      <td>0555e67e-f624-4a05-93e4-55c117d0056d</td>\n",
       "      <td>#FriendButMarried 2</td>\n",
       "      <td>As Ayu and Ditto finally transition from best ...</td>\n",
       "      <td>Rako Prijanto</td>\n",
       "      <td>Dramas, International Movies, Romantic Movies</td>\n",
       "      <td>Adipati Dolken, Mawar de Jongh, Sari Nila, Von...</td>\n",
       "      <td>Indonesia</td>\n",
       "      <td>2020</td>\n",
       "      <td>TV-G</td>\n",
       "      <td>104 min</td>\n",
       "      <td>7.0</td>\n",
       "      <td>Movie</td>\n",
       "    </tr>\n",
       "  </tbody>\n",
       "</table>\n",
       "</div>"
      ],
      "text/plain": [
       "                                Show Id                          Title  \\\n",
       "0  e2ef4e91-fb25-42ab-b485-be8e3b23dedb                         #Alive   \n",
       "1  b01b73b7-81f6-47a7-86d8-acb63080d525  #AnneFrank - Parallel Stories   \n",
       "2  7f2d4170-bab8-4d75-adc2-197f7124c070               #cats_the_mewvie   \n",
       "3  c293788a-41f7-49a3-a7fc-005ea33bce2b              #FriendButMarried   \n",
       "4  0555e67e-f624-4a05-93e4-55c117d0056d            #FriendButMarried 2   \n",
       "\n",
       "                                         Description  \\\n",
       "0  As a grisly virus rampages a city, a lone man ...   \n",
       "1  Through her diary, Anne Frank's story is retol...   \n",
       "2  This pawesome documentary explores how our fel...   \n",
       "3  Pining for his high school crush for years, a ...   \n",
       "4  As Ayu and Ditto finally transition from best ...   \n",
       "\n",
       "                      Director  \\\n",
       "0                       Cho Il   \n",
       "1  Sabina Fedeli, Anna Migotto   \n",
       "2             Michael Margolis   \n",
       "3                Rako Prijanto   \n",
       "4                Rako Prijanto   \n",
       "\n",
       "                                           Genres  \\\n",
       "0  Horror Movies, International Movies, Thrillers   \n",
       "1             Documentaries, International Movies   \n",
       "2             Documentaries, International Movies   \n",
       "3   Dramas, International Movies, Romantic Movies   \n",
       "4   Dramas, International Movies, Romantic Movies   \n",
       "\n",
       "                                                Cast Production Country  \\\n",
       "0                           Yoo Ah-in, Park Shin-hye        South Korea   \n",
       "1                        Helen Mirren, Gengher Gatti              Italy   \n",
       "2                                        Unavailable             Canada   \n",
       "3  Adipati Dolken, Vanesha Prescilla, Rendi Jhon,...          Indonesia   \n",
       "4  Adipati Dolken, Mawar de Jongh, Sari Nila, Von...          Indonesia   \n",
       "\n",
       "   Release Year      Rating Duration  Imdb Score Content Type  \n",
       "0          2020  Television   99 min         6.2        Movie  \n",
       "1          2019       TV-14   95 min         6.4        Movie  \n",
       "2          2020       TV-14   90 min         5.1        Movie  \n",
       "3          2018        TV-G  102 min         7.0        Movie  \n",
       "4          2020        TV-G  104 min         7.0        Movie  "
      ]
     },
     "execution_count": 21,
     "metadata": {},
     "output_type": "execute_result"
    }
   ],
   "source": [
    "netflix.head()"
   ]
  },
  {
   "cell_type": "code",
   "execution_count": 22,
   "metadata": {},
   "outputs": [],
   "source": [
    "netflix = netflix[netflix['Director'] != 'Unavailable']\n",
    "\n",
    "\n",
    "netflix.to_csv('C:\\\\Users\\\\mooni\\\\ProjectsVSC\\\\NetflixData\\\\netflixData.csv', index=False)"
   ]
  },
  {
   "cell_type": "code",
   "execution_count": 23,
   "metadata": {},
   "outputs": [
    {
     "data": {
      "text/html": [
       "<div>\n",
       "<style scoped>\n",
       "    .dataframe tbody tr th:only-of-type {\n",
       "        vertical-align: middle;\n",
       "    }\n",
       "\n",
       "    .dataframe tbody tr th {\n",
       "        vertical-align: top;\n",
       "    }\n",
       "\n",
       "    .dataframe thead th {\n",
       "        text-align: right;\n",
       "    }\n",
       "</style>\n",
       "<table border=\"1\" class=\"dataframe\">\n",
       "  <thead>\n",
       "    <tr style=\"text-align: right;\">\n",
       "      <th></th>\n",
       "      <th>Show Id</th>\n",
       "      <th>Title</th>\n",
       "      <th>Description</th>\n",
       "      <th>Director</th>\n",
       "      <th>Genres</th>\n",
       "      <th>Cast</th>\n",
       "      <th>Production Country</th>\n",
       "      <th>Release Year</th>\n",
       "      <th>Rating</th>\n",
       "      <th>Duration</th>\n",
       "      <th>Imdb Score</th>\n",
       "      <th>Content Type</th>\n",
       "    </tr>\n",
       "  </thead>\n",
       "  <tbody>\n",
       "    <tr>\n",
       "      <th>0</th>\n",
       "      <td>e2ef4e91-fb25-42ab-b485-be8e3b23dedb</td>\n",
       "      <td>#Alive</td>\n",
       "      <td>As a grisly virus rampages a city, a lone man ...</td>\n",
       "      <td>Cho Il</td>\n",
       "      <td>Horror Movies, International Movies, Thrillers</td>\n",
       "      <td>Yoo Ah-in, Park Shin-hye</td>\n",
       "      <td>South Korea</td>\n",
       "      <td>2020</td>\n",
       "      <td>Television</td>\n",
       "      <td>99 min</td>\n",
       "      <td>6.2</td>\n",
       "      <td>Movie</td>\n",
       "    </tr>\n",
       "    <tr>\n",
       "      <th>1</th>\n",
       "      <td>b01b73b7-81f6-47a7-86d8-acb63080d525</td>\n",
       "      <td>#AnneFrank - Parallel Stories</td>\n",
       "      <td>Through her diary, Anne Frank's story is retol...</td>\n",
       "      <td>Sabina Fedeli, Anna Migotto</td>\n",
       "      <td>Documentaries, International Movies</td>\n",
       "      <td>Helen Mirren, Gengher Gatti</td>\n",
       "      <td>Italy</td>\n",
       "      <td>2019</td>\n",
       "      <td>TV-14</td>\n",
       "      <td>95 min</td>\n",
       "      <td>6.4</td>\n",
       "      <td>Movie</td>\n",
       "    </tr>\n",
       "    <tr>\n",
       "      <th>2</th>\n",
       "      <td>7f2d4170-bab8-4d75-adc2-197f7124c070</td>\n",
       "      <td>#cats_the_mewvie</td>\n",
       "      <td>This pawesome documentary explores how our fel...</td>\n",
       "      <td>Michael Margolis</td>\n",
       "      <td>Documentaries, International Movies</td>\n",
       "      <td>Unavailable</td>\n",
       "      <td>Canada</td>\n",
       "      <td>2020</td>\n",
       "      <td>TV-14</td>\n",
       "      <td>90 min</td>\n",
       "      <td>5.1</td>\n",
       "      <td>Movie</td>\n",
       "    </tr>\n",
       "    <tr>\n",
       "      <th>3</th>\n",
       "      <td>c293788a-41f7-49a3-a7fc-005ea33bce2b</td>\n",
       "      <td>#FriendButMarried</td>\n",
       "      <td>Pining for his high school crush for years, a ...</td>\n",
       "      <td>Rako Prijanto</td>\n",
       "      <td>Dramas, International Movies, Romantic Movies</td>\n",
       "      <td>Adipati Dolken, Vanesha Prescilla, Rendi Jhon,...</td>\n",
       "      <td>Indonesia</td>\n",
       "      <td>2018</td>\n",
       "      <td>TV-G</td>\n",
       "      <td>102 min</td>\n",
       "      <td>7.0</td>\n",
       "      <td>Movie</td>\n",
       "    </tr>\n",
       "    <tr>\n",
       "      <th>4</th>\n",
       "      <td>0555e67e-f624-4a05-93e4-55c117d0056d</td>\n",
       "      <td>#FriendButMarried 2</td>\n",
       "      <td>As Ayu and Ditto finally transition from best ...</td>\n",
       "      <td>Rako Prijanto</td>\n",
       "      <td>Dramas, International Movies, Romantic Movies</td>\n",
       "      <td>Adipati Dolken, Mawar de Jongh, Sari Nila, Von...</td>\n",
       "      <td>Indonesia</td>\n",
       "      <td>2020</td>\n",
       "      <td>TV-G</td>\n",
       "      <td>104 min</td>\n",
       "      <td>7.0</td>\n",
       "      <td>Movie</td>\n",
       "    </tr>\n",
       "  </tbody>\n",
       "</table>\n",
       "</div>"
      ],
      "text/plain": [
       "                                Show Id                          Title  \\\n",
       "0  e2ef4e91-fb25-42ab-b485-be8e3b23dedb                         #Alive   \n",
       "1  b01b73b7-81f6-47a7-86d8-acb63080d525  #AnneFrank - Parallel Stories   \n",
       "2  7f2d4170-bab8-4d75-adc2-197f7124c070               #cats_the_mewvie   \n",
       "3  c293788a-41f7-49a3-a7fc-005ea33bce2b              #FriendButMarried   \n",
       "4  0555e67e-f624-4a05-93e4-55c117d0056d            #FriendButMarried 2   \n",
       "\n",
       "                                         Description  \\\n",
       "0  As a grisly virus rampages a city, a lone man ...   \n",
       "1  Through her diary, Anne Frank's story is retol...   \n",
       "2  This pawesome documentary explores how our fel...   \n",
       "3  Pining for his high school crush for years, a ...   \n",
       "4  As Ayu and Ditto finally transition from best ...   \n",
       "\n",
       "                      Director  \\\n",
       "0                       Cho Il   \n",
       "1  Sabina Fedeli, Anna Migotto   \n",
       "2             Michael Margolis   \n",
       "3                Rako Prijanto   \n",
       "4                Rako Prijanto   \n",
       "\n",
       "                                           Genres  \\\n",
       "0  Horror Movies, International Movies, Thrillers   \n",
       "1             Documentaries, International Movies   \n",
       "2             Documentaries, International Movies   \n",
       "3   Dramas, International Movies, Romantic Movies   \n",
       "4   Dramas, International Movies, Romantic Movies   \n",
       "\n",
       "                                                Cast Production Country  \\\n",
       "0                           Yoo Ah-in, Park Shin-hye        South Korea   \n",
       "1                        Helen Mirren, Gengher Gatti              Italy   \n",
       "2                                        Unavailable             Canada   \n",
       "3  Adipati Dolken, Vanesha Prescilla, Rendi Jhon,...          Indonesia   \n",
       "4  Adipati Dolken, Mawar de Jongh, Sari Nila, Von...          Indonesia   \n",
       "\n",
       "   Release Year      Rating Duration  Imdb Score Content Type  \n",
       "0          2020  Television   99 min         6.2        Movie  \n",
       "1          2019       TV-14   95 min         6.4        Movie  \n",
       "2          2020       TV-14   90 min         5.1        Movie  \n",
       "3          2018        TV-G  102 min         7.0        Movie  \n",
       "4          2020        TV-G  104 min         7.0        Movie  "
      ]
     },
     "execution_count": 23,
     "metadata": {},
     "output_type": "execute_result"
    }
   ],
   "source": [
    "netflix.head()"
   ]
  },
  {
   "cell_type": "code",
   "execution_count": 24,
   "metadata": {},
   "outputs": [],
   "source": [
    "top_directors = netflix.sort_values(by='Imdb Score', ascending=False)"
   ]
  },
  {
   "cell_type": "code",
   "execution_count": 27,
   "metadata": {},
   "outputs": [
    {
     "name": "stdout",
     "output_type": "stream",
     "text": [
      "                                               Director  Imdb Score\n",
      "1663                                          Onur Ünlü         9.1\n",
      "749   Alastair Fothergill, Jonnie Hughes, Keith Scholey         9.1\n",
      "2088                                    Samir Al Asfory         9.0\n",
      "483                                          Bo Burnham         9.0\n",
      "1063                                      Yasuhiro Irie         9.0\n",
      "...                                                 ...         ...\n",
      "43                                           Matei Dima         1.9\n",
      "709                        Patrick Durham, Paul G. Volk         1.9\n",
      "1260                                         Sajid Khan         1.8\n",
      "3289                             Stanley Menino D'Costa         1.7\n",
      "148                                          S.A. Zaidi         1.3\n",
      "\n",
      "[3607 rows x 2 columns]\n"
     ]
    }
   ],
   "source": [
    "print(top_directors[['Director', 'Imdb Score']])"
   ]
  }
 ],
 "metadata": {
  "kernelspec": {
   "display_name": "Python 3",
   "language": "python",
   "name": "python3"
  },
  "language_info": {
   "codemirror_mode": {
    "name": "ipython",
    "version": 3
   },
   "file_extension": ".py",
   "mimetype": "text/x-python",
   "name": "python",
   "nbconvert_exporter": "python",
   "pygments_lexer": "ipython3",
   "version": "3.11.3"
  },
  "orig_nbformat": 4
 },
 "nbformat": 4,
 "nbformat_minor": 2
}
